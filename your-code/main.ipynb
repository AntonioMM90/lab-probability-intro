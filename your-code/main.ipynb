{
 "cells": [
  {
   "cell_type": "markdown",
   "metadata": {},
   "source": [
    "# Probability\n",
    "## Challenge 1\n",
    "\n",
    "A and B are events of a probability such that $P(A) = 0.3$, $P(B) = 0.6$ and $P(A \\cap B) = 0.1$\n",
    "\n",
    "Which of the following statements are true?  \n",
    "**HINT: draw a big Venn Diagram by your side**  \n",
    "* $P(\\overline{A}) = 0.7$\n",
    "* $P(A \\cup B) = 0.6$\n",
    "* $P(A \\cap \\overline{B}) = 0.2$\n",
    "* $P(A \\cup \\overline{A}) = 1$  \n",
    "* $P(A \\cap (B \\cup \\overline{B})) = 0.4$\n",
    "* $P(\\overline{A} \\cap \\overline{B}) = 0.3$\n",
    "* $P(\\overline{A \\cap B}) = 0.9$"
   ]
  },
  {
   "cell_type": "code",
   "execution_count": 1,
   "metadata": {},
   "outputs": [
    {
     "name": "stdout",
     "output_type": "stream",
     "text": [
      "A and B are dependant events\n",
      "Statement 1 is True\n",
      "Statement 2 is False\n",
      "Statement 3 is False\n",
      "Statement 4 is True\n",
      "Statement 5 is False\n",
      "Statement 6 is False\n",
      "Statement 7 is True\n"
     ]
    }
   ],
   "source": [
    "P_A = 0.3\n",
    "P_B = 0.6\n",
    "P_AandB = 0.1\n",
    "\n",
    "# We know they are independant:\n",
    "if P_A * P_B != P_AandB:\n",
    "    print('A and B are dependant events')\n",
    "#So we can caculate P(B|A), knowing P(A and B):\n",
    "P_BA = 0.1 / 0.3\n",
    "\n",
    "\n",
    "P_NOA = 0.7\n",
    "# P(NO \"A\") = 1 - P(A)\n",
    "print(f'Statement 1 is {P_NOA == 1 - P_A}')\n",
    "P_NOA = 1 - P_A\n",
    "\n",
    "P_A_or_B = 0.6\n",
    "# P (AUB) = \n",
    "print(f'Statement 2 is {P_A_or_B == P_A + P_B - P_AandB}')\n",
    "\n",
    "P_A_and_NOT_B = 0.2\n",
    "# P (A and not B) = \n",
    "print(f'Statement 3 is {P_A_and_NOT_B == 0.3 * 0.4}')\n",
    "\n",
    "P_A_or_NOT_A = 1\n",
    "# P_(A or Not A) = \n",
    "print(f'Statement 4 is {True}')\n",
    "# Taking into account that Probability of not A is = 1 - Prob of A. One or the other will always occur.\n",
    "\n",
    "P_A_and_B_or_Not_B = 0.4\n",
    "# P (A and B or not B) = \n",
    "print(f'Statement 5 is {P_A_and_B_or_Not_B == 0.3 * 1}')\n",
    "\n",
    "P_NotA_and_NotB = 0.3\n",
    "print(f'Statement 6 is {P_NotA_and_NotB == 1 - P_AandB}')\n",
    "\n",
    "# It is the same as statement 6\n",
    "P_NotA_and_NotB = 0.9\n",
    "print(f'Statement 7 is {P_NotA_and_NotB == 1 - P_AandB}')"
   ]
  },
  {
   "cell_type": "markdown",
   "metadata": {},
   "source": [
    "## Challenge 2\n",
    "There is a box with 10 white balls, 12 red balls and 8 black balls. Calculate the probability of:\n",
    "* Taking a white ball out.\n",
    "* Taking a white ball on first extraction and a black ball out on second extraction without replacing the first one.\n",
    "* Taking a white ball on first extraction and a black ball out on second extraction replacing the first one.\n",
    "* Taking 3 balls and them being all different colours."
   ]
  },
  {
   "cell_type": "code",
   "execution_count": 2,
   "metadata": {},
   "outputs": [
    {
     "name": "stdout",
     "output_type": "stream",
     "text": [
      "0.3333333333333333\n",
      "0.13793103448275862\n",
      "0.13333333333333333\n",
      "0.23645320197044334\n"
     ]
    }
   ],
   "source": [
    "P_1W = 10 / (10 + 12 +8)\n",
    "print(P_1W)\n",
    "\n",
    "P_1W_1BNR = P_1W * (12/(9+12+8))\n",
    "print(P_1W_1BNR)\n",
    "\n",
    "P_1W_1BR = P_1W * (12/(10+12+8))\n",
    "print(P_1W_1BR)\n",
    "\n",
    "#Laplace\n",
    "# Possible Cases:\n",
    "PC = (30 * 29 * 28)/(1*2*3)\n",
    "# Favorable cases:\n",
    "FC = 10 * 12 * 8\n",
    "# Probability of 1 of each color:\n",
    "P3C = FC/PC\n",
    "print(P3C)"
   ]
  },
  {
   "cell_type": "markdown",
   "metadata": {},
   "source": [
    "## Challenge 3\n",
    "\n",
    "You are planning to go on a picnic today but the morning is cloudy. You hate rain so you don't know whether to go out or stay home! To help you make a decision, you gather the following data about rainy days:\n",
    "\n",
    "* 50% of all rainy days start off cloudy!\n",
    "* Cloudy mornings are common. About 40% of days start cloudy. \n",
    "* This month is usually dry so only 3 of 30 days (10%) tend to be rainy. \n",
    "\n",
    "What is the chance of rain during the day?"
   ]
  },
  {
   "cell_type": "code",
   "execution_count": 3,
   "metadata": {},
   "outputs": [
    {
     "data": {
      "text/plain": [
       "'\\nyour solution here\\n'"
      ]
     },
     "execution_count": 3,
     "metadata": {},
     "output_type": "execute_result"
    }
   ],
   "source": [
    "\"\"\"\n",
    "your solution here\n",
    "\"\"\"\n",
    "\n"
   ]
  },
  {
   "cell_type": "markdown",
   "metadata": {},
   "source": [
    "## Challenge 4\n",
    "\n",
    " * If someone flies to China, the probability of getting Covid is 1%  \n",
    " * If someone flies to Italy, the probability of getting Covid is 20%  \n",
    "\n",
    "I roll 1 dice with numbers 1, 2, 3, 4, 5, 6:  \n",
    " * If 1: I fly to Italy\n",
    " * If not 1: I fly to China\n",
    "\n",
    "During my trip, I got Covid. What is the probability that I flew to China?"
   ]
  },
  {
   "cell_type": "code",
   "execution_count": 4,
   "metadata": {},
   "outputs": [],
   "source": [
    "In_China_Covid = 0.01\n",
    "In_Ita_Covid = 0.2\n",
    "Fly_China = 5/6\n",
    "Fly_Ita = 1/6\n",
    "\n",
    "P_Flew_China = (In_China_Covid * Fly_China) / ((In_China_Covid * Fly_China) + (In_Ita_Covid * Fly_Ita))"
   ]
  },
  {
   "cell_type": "code",
   "execution_count": 5,
   "metadata": {},
   "outputs": [
    {
     "data": {
      "text/plain": [
       "0.2"
      ]
     },
     "execution_count": 5,
     "metadata": {},
     "output_type": "execute_result"
    }
   ],
   "source": [
    "\"\"\"\n",
    "your solution here\n",
    "\"\"\"\n",
    "P_Flew_China"
   ]
  },
  {
   "cell_type": "markdown",
   "metadata": {},
   "source": [
    "## BONUS\n",
    "\n",
    "You roll 2 dice. What is the probability that the sum of the numbers is 7? And 8? And 9? Then simulate 10000 times and draw a histogram."
   ]
  },
  {
   "cell_type": "markdown",
   "metadata": {},
   "source": [
    "your explanation here"
   ]
  },
  {
   "cell_type": "code",
   "execution_count": 6,
   "metadata": {},
   "outputs": [],
   "source": [
    "import random\n",
    "import numpy as np\n",
    "import matplotlib.pyplot as plt\n",
    "import seaborn as sns"
   ]
  },
  {
   "cell_type": "code",
   "execution_count": 7,
   "metadata": {},
   "outputs": [
    {
     "name": "stdout",
     "output_type": "stream",
     "text": [
      "P(7) is 0.16666666666666666\n",
      "P(8) is 0.1388888888888889\n",
      "P(9) is 0.1111111111111111\n"
     ]
    }
   ],
   "source": [
    "# Probability of a seven is the added probability of all the combinations that make 7:\n",
    "#.      P1 *  P6 +  P2 *  P5 +  P3 * P4  \n",
    "P_7 = ((1/6)*(1/6)+(1/6)*(1/6)+(1/6)*(1/6))*2\n",
    "print(f'P(7) is {P_7}')\n",
    "# Doing it faster, calculating the probability of 1 combination:\n",
    "PC = (1/6)*(1/6)\n",
    "#Calculating the prob of 8, it has 5 possible combinations:\n",
    "P_8 = PC *5\n",
    "print(f'P(8) is {P_8}')\n",
    "P_9 = PC *4\n",
    "print(f'P(9) is {P_9}')"
   ]
  },
  {
   "cell_type": "code",
   "execution_count": 9,
   "metadata": {},
   "outputs": [
    {
     "data": {
      "image/png": "[encoded data removed]",
      "text/plain": [
       "<Figure size 432x288 with 1 Axes>"
      ]
     },
     "metadata": {
      "needs_background": "light"
     },
     "output_type": "display_data"
    }
   ],
   "source": [
    "Dice1 = np.array([1,2,3,4,5,6])\n",
    "Dice2 = np.array([1,2,3,4,5,6])\n",
    "\n",
    "Roll1 = []\n",
    "Roll2 = []\n",
    "Sum = []\n",
    "\n",
    "for i in range(10000):\n",
    "    roll_1 = np.random.choice(Dice1)\n",
    "    roll_2 = np.random.choice(Dice2)\n",
    "    Roll1.append(roll_1)\n",
    "    Roll2.append(roll_2)\n",
    "    Sum.append(roll_1 + roll_2)\n",
    "\n",
    "sns.countplot(x = Sum);"
   ]
  }
 ],
 "metadata": {
  "kernelspec": {
   "display_name": "Python 3",
   "language": "python",
   "name": "python3"
  },
  "language_info": {
   "codemirror_mode": {
    "name": "ipython",
    "version": 3
   },
   "file_extension": ".py",
   "mimetype": "text/x-python",
   "name": "python",
   "nbconvert_exporter": "python",
   "pygments_lexer": "ipython3",
   "version": "3.9.1"
  },
  "toc": {
   "base_numbering": 1,
   "nav_menu": {},
   "number_sections": false,
   "sideBar": true,
   "skip_h1_title": false,
   "title_cell": "Table of Contents",
   "title_sidebar": "Contents",
   "toc_cell": false,
   "toc_position": {
    "height": "calc(100% - 180px)",
    "left": "10px",
    "top": "150px",
    "width": "296.475px"
   },
   "toc_section_display": true,
   "toc_window_display": false
  },
  "varInspector": {
   "cols": {
    "lenName": 16,
    "lenType": 16,
    "lenVar": 40
   },
   "kernels_config": {
    "python": {
     "delete_cmd_postfix": "",
     "delete_cmd_prefix": "del ",
     "library": "var_list.py",
     "varRefreshCmd": "print(var_dic_list())"
    },
    "r": {
     "delete_cmd_postfix": ") ",
     "delete_cmd_prefix": "rm(",
     "library": "var_list.r",
     "varRefreshCmd": "cat(var_dic_list()) "
    }
   },
   "types_to_exclude": [
    "module",
    "function",
    "builtin_function_or_method",
    "instance",
    "_Feature"
   ],
   "window_display": false
  }
 },
 "nbformat": 4,
 "nbformat_minor": 2
}
